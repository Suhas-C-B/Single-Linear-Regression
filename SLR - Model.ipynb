{
 "cells": [
  {
   "cell_type": "code",
   "execution_count": 1,
   "id": "97f9885b",
   "metadata": {},
   "outputs": [],
   "source": [
    "#-Step 1: Read and access data\n",
    "#-Step 2: Identify the variables (i.e dependent and independent variable)\n",
    "#-Step 3: Dividing the data into training and test data\n",
    "#-Step 4: Creating the model using on the training data set\n",
    "#-Step 5: Find the values of slope, intercept and R Square\n",
    "#-Step 6: Predict the values on test data using your model\n",
    "#-Step 7: Calculate the RMSE value from test data \n",
    "#-Step 8: Predict the values for your validation data using model and RMSE"
   ]
  },
  {
   "cell_type": "markdown",
   "id": "123e9ecc",
   "metadata": {},
   "source": [
    " ABC Inc an IT firm operating in telecom domain . They have around 5000 employees in India. Lately they have started benchmarking employee ctc against last CTC. The HR has the ctc data.  Help them to perform an analysis which will show the relationship between Last CTC and employee CTC. Predict what CTC can be offered to a candidate with 6 lakhs of Last ctc."
   ]
  },
  {
   "cell_type": "code",
   "execution_count": 2,
   "id": "5c94e55c",
   "metadata": {},
   "outputs": [],
   "source": [
    "import pandas as pd"
   ]
  },
  {
   "cell_type": "code",
   "execution_count": 3,
   "id": "db501b17",
   "metadata": {},
   "outputs": [],
   "source": [
    "import os"
   ]
  },
  {
   "cell_type": "code",
   "execution_count": 4,
   "id": "c8a3136d",
   "metadata": {},
   "outputs": [],
   "source": [
    "os.chdir(\"E:\\SkillEnable Class\\Python\\Datasets\")"
   ]
  },
  {
   "cell_type": "code",
   "execution_count": 5,
   "id": "8e7334cf",
   "metadata": {},
   "outputs": [],
   "source": [
    "ctc = pd.read_csv(\"CTCdata.csv\")"
   ]
  },
  {
   "cell_type": "code",
   "execution_count": 6,
   "id": "8cfde5f3",
   "metadata": {},
   "outputs": [
    {
     "data": {
      "text/html": [
       "<div>\n",
       "<style scoped>\n",
       "    .dataframe tbody tr th:only-of-type {\n",
       "        vertical-align: middle;\n",
       "    }\n",
       "\n",
       "    .dataframe tbody tr th {\n",
       "        vertical-align: top;\n",
       "    }\n",
       "\n",
       "    .dataframe thead th {\n",
       "        text-align: right;\n",
       "    }\n",
       "</style>\n",
       "<table border=\"1\" class=\"dataframe\">\n",
       "  <thead>\n",
       "    <tr style=\"text-align: right;\">\n",
       "      <th></th>\n",
       "      <th>CTCoffered</th>\n",
       "      <th>LastCTC</th>\n",
       "      <th>Interview rating</th>\n",
       "      <th>Skill Set Index</th>\n",
       "      <th>Highest qualification</th>\n",
       "      <th>Total years of work exp</th>\n",
       "    </tr>\n",
       "  </thead>\n",
       "  <tbody>\n",
       "    <tr>\n",
       "      <th>0</th>\n",
       "      <td>19</td>\n",
       "      <td>18</td>\n",
       "      <td>4</td>\n",
       "      <td>3</td>\n",
       "      <td>3</td>\n",
       "      <td>8.5</td>\n",
       "    </tr>\n",
       "    <tr>\n",
       "      <th>1</th>\n",
       "      <td>17</td>\n",
       "      <td>16</td>\n",
       "      <td>4</td>\n",
       "      <td>3</td>\n",
       "      <td>3</td>\n",
       "      <td>7.7</td>\n",
       "    </tr>\n",
       "    <tr>\n",
       "      <th>2</th>\n",
       "      <td>17</td>\n",
       "      <td>16</td>\n",
       "      <td>4</td>\n",
       "      <td>3</td>\n",
       "      <td>3</td>\n",
       "      <td>7.9</td>\n",
       "    </tr>\n",
       "    <tr>\n",
       "      <th>3</th>\n",
       "      <td>9</td>\n",
       "      <td>8</td>\n",
       "      <td>3</td>\n",
       "      <td>1</td>\n",
       "      <td>2</td>\n",
       "      <td>2.7</td>\n",
       "    </tr>\n",
       "    <tr>\n",
       "      <th>4</th>\n",
       "      <td>10</td>\n",
       "      <td>9</td>\n",
       "      <td>5</td>\n",
       "      <td>4</td>\n",
       "      <td>4</td>\n",
       "      <td>9.7</td>\n",
       "    </tr>\n",
       "    <tr>\n",
       "      <th>...</th>\n",
       "      <td>...</td>\n",
       "      <td>...</td>\n",
       "      <td>...</td>\n",
       "      <td>...</td>\n",
       "      <td>...</td>\n",
       "      <td>...</td>\n",
       "    </tr>\n",
       "    <tr>\n",
       "      <th>186</th>\n",
       "      <td>7</td>\n",
       "      <td>5</td>\n",
       "      <td>4</td>\n",
       "      <td>2</td>\n",
       "      <td>2</td>\n",
       "      <td>5.5</td>\n",
       "    </tr>\n",
       "    <tr>\n",
       "      <th>187</th>\n",
       "      <td>21</td>\n",
       "      <td>19</td>\n",
       "      <td>3</td>\n",
       "      <td>2</td>\n",
       "      <td>2</td>\n",
       "      <td>5.3</td>\n",
       "    </tr>\n",
       "    <tr>\n",
       "      <th>188</th>\n",
       "      <td>14</td>\n",
       "      <td>14</td>\n",
       "      <td>5</td>\n",
       "      <td>4</td>\n",
       "      <td>4</td>\n",
       "      <td>10.3</td>\n",
       "    </tr>\n",
       "    <tr>\n",
       "      <th>189</th>\n",
       "      <td>10</td>\n",
       "      <td>8</td>\n",
       "      <td>5</td>\n",
       "      <td>4</td>\n",
       "      <td>4</td>\n",
       "      <td>9.5</td>\n",
       "    </tr>\n",
       "    <tr>\n",
       "      <th>190</th>\n",
       "      <td>15</td>\n",
       "      <td>15</td>\n",
       "      <td>4</td>\n",
       "      <td>3</td>\n",
       "      <td>3</td>\n",
       "      <td>7.7</td>\n",
       "    </tr>\n",
       "  </tbody>\n",
       "</table>\n",
       "<p>191 rows × 6 columns</p>\n",
       "</div>"
      ],
      "text/plain": [
       "     CTCoffered  LastCTC  Interview rating  Skill Set Index  \\\n",
       "0            19       18                 4                3   \n",
       "1            17       16                 4                3   \n",
       "2            17       16                 4                3   \n",
       "3             9        8                 3                1   \n",
       "4            10        9                 5                4   \n",
       "..          ...      ...               ...              ...   \n",
       "186           7        5                 4                2   \n",
       "187          21       19                 3                2   \n",
       "188          14       14                 5                4   \n",
       "189          10        8                 5                4   \n",
       "190          15       15                 4                3   \n",
       "\n",
       "     Highest qualification  Total years of work exp  \n",
       "0                        3                      8.5  \n",
       "1                        3                      7.7  \n",
       "2                        3                      7.9  \n",
       "3                        2                      2.7  \n",
       "4                        4                      9.7  \n",
       "..                     ...                      ...  \n",
       "186                      2                      5.5  \n",
       "187                      2                      5.3  \n",
       "188                      4                     10.3  \n",
       "189                      4                      9.5  \n",
       "190                      3                      7.7  \n",
       "\n",
       "[191 rows x 6 columns]"
      ]
     },
     "execution_count": 6,
     "metadata": {},
     "output_type": "execute_result"
    }
   ],
   "source": [
    "ctc"
   ]
  },
  {
   "cell_type": "code",
   "execution_count": 7,
   "id": "16830334",
   "metadata": {},
   "outputs": [],
   "source": [
    "ctc1 = ctc[[\"CTCoffered\",\"LastCTC\"]]"
   ]
  },
  {
   "cell_type": "code",
   "execution_count": 8,
   "id": "1493a788",
   "metadata": {},
   "outputs": [
    {
     "data": {
      "text/html": [
       "<div>\n",
       "<style scoped>\n",
       "    .dataframe tbody tr th:only-of-type {\n",
       "        vertical-align: middle;\n",
       "    }\n",
       "\n",
       "    .dataframe tbody tr th {\n",
       "        vertical-align: top;\n",
       "    }\n",
       "\n",
       "    .dataframe thead th {\n",
       "        text-align: right;\n",
       "    }\n",
       "</style>\n",
       "<table border=\"1\" class=\"dataframe\">\n",
       "  <thead>\n",
       "    <tr style=\"text-align: right;\">\n",
       "      <th></th>\n",
       "      <th>CTCoffered</th>\n",
       "      <th>LastCTC</th>\n",
       "    </tr>\n",
       "  </thead>\n",
       "  <tbody>\n",
       "    <tr>\n",
       "      <th>0</th>\n",
       "      <td>19</td>\n",
       "      <td>18</td>\n",
       "    </tr>\n",
       "    <tr>\n",
       "      <th>1</th>\n",
       "      <td>17</td>\n",
       "      <td>16</td>\n",
       "    </tr>\n",
       "    <tr>\n",
       "      <th>2</th>\n",
       "      <td>17</td>\n",
       "      <td>16</td>\n",
       "    </tr>\n",
       "    <tr>\n",
       "      <th>3</th>\n",
       "      <td>9</td>\n",
       "      <td>8</td>\n",
       "    </tr>\n",
       "    <tr>\n",
       "      <th>4</th>\n",
       "      <td>10</td>\n",
       "      <td>9</td>\n",
       "    </tr>\n",
       "    <tr>\n",
       "      <th>...</th>\n",
       "      <td>...</td>\n",
       "      <td>...</td>\n",
       "    </tr>\n",
       "    <tr>\n",
       "      <th>186</th>\n",
       "      <td>7</td>\n",
       "      <td>5</td>\n",
       "    </tr>\n",
       "    <tr>\n",
       "      <th>187</th>\n",
       "      <td>21</td>\n",
       "      <td>19</td>\n",
       "    </tr>\n",
       "    <tr>\n",
       "      <th>188</th>\n",
       "      <td>14</td>\n",
       "      <td>14</td>\n",
       "    </tr>\n",
       "    <tr>\n",
       "      <th>189</th>\n",
       "      <td>10</td>\n",
       "      <td>8</td>\n",
       "    </tr>\n",
       "    <tr>\n",
       "      <th>190</th>\n",
       "      <td>15</td>\n",
       "      <td>15</td>\n",
       "    </tr>\n",
       "  </tbody>\n",
       "</table>\n",
       "<p>191 rows × 2 columns</p>\n",
       "</div>"
      ],
      "text/plain": [
       "     CTCoffered  LastCTC\n",
       "0            19       18\n",
       "1            17       16\n",
       "2            17       16\n",
       "3             9        8\n",
       "4            10        9\n",
       "..          ...      ...\n",
       "186           7        5\n",
       "187          21       19\n",
       "188          14       14\n",
       "189          10        8\n",
       "190          15       15\n",
       "\n",
       "[191 rows x 2 columns]"
      ]
     },
     "execution_count": 8,
     "metadata": {},
     "output_type": "execute_result"
    }
   ],
   "source": [
    "ctc1"
   ]
  },
  {
   "cell_type": "code",
   "execution_count": 9,
   "id": "30d8580b",
   "metadata": {},
   "outputs": [],
   "source": [
    "Y = ctc1[['CTCoffered']]"
   ]
  },
  {
   "cell_type": "code",
   "execution_count": 10,
   "id": "ae09ff38",
   "metadata": {},
   "outputs": [],
   "source": [
    "X = ctc1[['LastCTC']]"
   ]
  },
  {
   "cell_type": "code",
   "execution_count": 11,
   "id": "025fc31b",
   "metadata": {},
   "outputs": [
    {
     "data": {
      "text/plain": [
       "(152, 39, 152, 39)"
      ]
     },
     "execution_count": 11,
     "metadata": {},
     "output_type": "execute_result"
    }
   ],
   "source": [
    "from sklearn.model_selection import train_test_split\n",
    "\n",
    "X_train, X_test, Y_train, Y_test = train_test_split(X,Y, test_size = 0.2, random_state = 7)\n",
    "\n",
    "len(X_train), len(X_test), len(Y_train), len(Y_test)"
   ]
  },
  {
   "cell_type": "code",
   "execution_count": 12,
   "id": "1e97b599",
   "metadata": {},
   "outputs": [],
   "source": [
    "from sklearn.linear_model import LinearRegression"
   ]
  },
  {
   "cell_type": "code",
   "execution_count": 13,
   "id": "3997eaa5",
   "metadata": {},
   "outputs": [],
   "source": [
    "slr = LinearRegression()"
   ]
  },
  {
   "cell_type": "code",
   "execution_count": 14,
   "id": "279d75f9",
   "metadata": {},
   "outputs": [],
   "source": [
    "model = slr.fit(X_train, Y_train)"
   ]
  },
  {
   "cell_type": "code",
   "execution_count": 15,
   "id": "2240c813",
   "metadata": {},
   "outputs": [
    {
     "data": {
      "text/plain": [
       "LinearRegression()"
      ]
     },
     "execution_count": 15,
     "metadata": {},
     "output_type": "execute_result"
    }
   ],
   "source": [
    "model"
   ]
  },
  {
   "cell_type": "code",
   "execution_count": 16,
   "id": "57597e96",
   "metadata": {},
   "outputs": [],
   "source": [
    "m = model.coef_"
   ]
  },
  {
   "cell_type": "code",
   "execution_count": 17,
   "id": "8de2451a",
   "metadata": {},
   "outputs": [],
   "source": [
    "C = model.intercept_"
   ]
  },
  {
   "cell_type": "code",
   "execution_count": 18,
   "id": "6148f9bc",
   "metadata": {},
   "outputs": [
    {
     "name": "stdout",
     "output_type": "stream",
     "text": [
      "[[0.94634628]] [1.7260295]\n"
     ]
    }
   ],
   "source": [
    "print(m, C)"
   ]
  },
  {
   "cell_type": "code",
   "execution_count": 19,
   "id": "19fe7a27",
   "metadata": {},
   "outputs": [],
   "source": [
    "r_sq = model.score(X_train, Y_train)"
   ]
  },
  {
   "cell_type": "code",
   "execution_count": 20,
   "id": "cc53d199",
   "metadata": {},
   "outputs": [
    {
     "data": {
      "text/plain": [
       "0.9721021671092424"
      ]
     },
     "execution_count": 20,
     "metadata": {},
     "output_type": "execute_result"
    }
   ],
   "source": [
    "r_sq"
   ]
  },
  {
   "cell_type": "code",
   "execution_count": 21,
   "id": "f418186e",
   "metadata": {},
   "outputs": [
    {
     "data": {
      "text/html": [
       "<div>\n",
       "<style scoped>\n",
       "    .dataframe tbody tr th:only-of-type {\n",
       "        vertical-align: middle;\n",
       "    }\n",
       "\n",
       "    .dataframe tbody tr th {\n",
       "        vertical-align: top;\n",
       "    }\n",
       "\n",
       "    .dataframe thead th {\n",
       "        text-align: right;\n",
       "    }\n",
       "</style>\n",
       "<table border=\"1\" class=\"dataframe\">\n",
       "  <thead>\n",
       "    <tr style=\"text-align: right;\">\n",
       "      <th></th>\n",
       "      <th>LastCTC</th>\n",
       "    </tr>\n",
       "  </thead>\n",
       "  <tbody>\n",
       "    <tr>\n",
       "      <th>22</th>\n",
       "      <td>16</td>\n",
       "    </tr>\n",
       "    <tr>\n",
       "      <th>158</th>\n",
       "      <td>6</td>\n",
       "    </tr>\n",
       "    <tr>\n",
       "      <th>46</th>\n",
       "      <td>14</td>\n",
       "    </tr>\n",
       "    <tr>\n",
       "      <th>78</th>\n",
       "      <td>6</td>\n",
       "    </tr>\n",
       "    <tr>\n",
       "      <th>24</th>\n",
       "      <td>14</td>\n",
       "    </tr>\n",
       "  </tbody>\n",
       "</table>\n",
       "</div>"
      ],
      "text/plain": [
       "     LastCTC\n",
       "22        16\n",
       "158        6\n",
       "46        14\n",
       "78         6\n",
       "24        14"
      ]
     },
     "execution_count": 21,
     "metadata": {},
     "output_type": "execute_result"
    }
   ],
   "source": [
    "X_test.head()"
   ]
  },
  {
   "cell_type": "code",
   "execution_count": 22,
   "id": "dc606f08",
   "metadata": {},
   "outputs": [
    {
     "data": {
      "text/html": [
       "<div>\n",
       "<style scoped>\n",
       "    .dataframe tbody tr th:only-of-type {\n",
       "        vertical-align: middle;\n",
       "    }\n",
       "\n",
       "    .dataframe tbody tr th {\n",
       "        vertical-align: top;\n",
       "    }\n",
       "\n",
       "    .dataframe thead th {\n",
       "        text-align: right;\n",
       "    }\n",
       "</style>\n",
       "<table border=\"1\" class=\"dataframe\">\n",
       "  <thead>\n",
       "    <tr style=\"text-align: right;\">\n",
       "      <th></th>\n",
       "      <th>index</th>\n",
       "      <th>CTCoffered</th>\n",
       "    </tr>\n",
       "  </thead>\n",
       "  <tbody>\n",
       "    <tr>\n",
       "      <th>0</th>\n",
       "      <td>22</td>\n",
       "      <td>16</td>\n",
       "    </tr>\n",
       "    <tr>\n",
       "      <th>1</th>\n",
       "      <td>158</td>\n",
       "      <td>8</td>\n",
       "    </tr>\n",
       "    <tr>\n",
       "      <th>2</th>\n",
       "      <td>46</td>\n",
       "      <td>14</td>\n",
       "    </tr>\n",
       "    <tr>\n",
       "      <th>3</th>\n",
       "      <td>78</td>\n",
       "      <td>8</td>\n",
       "    </tr>\n",
       "    <tr>\n",
       "      <th>4</th>\n",
       "      <td>24</td>\n",
       "      <td>14</td>\n",
       "    </tr>\n",
       "  </tbody>\n",
       "</table>\n",
       "</div>"
      ],
      "text/plain": [
       "   index  CTCoffered\n",
       "0     22          16\n",
       "1    158           8\n",
       "2     46          14\n",
       "3     78           8\n",
       "4     24          14"
      ]
     },
     "execution_count": 22,
     "metadata": {},
     "output_type": "execute_result"
    }
   ],
   "source": [
    "Y_test.head().reset_index()"
   ]
  },
  {
   "cell_type": "code",
   "execution_count": 23,
   "id": "d07f390c",
   "metadata": {},
   "outputs": [],
   "source": [
    "Y_test['CTC_Pred'] = model.predict(X_test)\n",
    "\n",
    "import warnings\n",
    "warnings.filterwarnings('ignore')"
   ]
  },
  {
   "cell_type": "code",
   "execution_count": 24,
   "id": "cbad3fa3",
   "metadata": {},
   "outputs": [
    {
     "data": {
      "text/html": [
       "<div>\n",
       "<style scoped>\n",
       "    .dataframe tbody tr th:only-of-type {\n",
       "        vertical-align: middle;\n",
       "    }\n",
       "\n",
       "    .dataframe tbody tr th {\n",
       "        vertical-align: top;\n",
       "    }\n",
       "\n",
       "    .dataframe thead th {\n",
       "        text-align: right;\n",
       "    }\n",
       "</style>\n",
       "<table border=\"1\" class=\"dataframe\">\n",
       "  <thead>\n",
       "    <tr style=\"text-align: right;\">\n",
       "      <th></th>\n",
       "      <th>CTCoffered</th>\n",
       "      <th>CTC_Pred</th>\n",
       "    </tr>\n",
       "  </thead>\n",
       "  <tbody>\n",
       "    <tr>\n",
       "      <th>22</th>\n",
       "      <td>16</td>\n",
       "      <td>16.867570</td>\n",
       "    </tr>\n",
       "    <tr>\n",
       "      <th>158</th>\n",
       "      <td>8</td>\n",
       "      <td>7.404107</td>\n",
       "    </tr>\n",
       "    <tr>\n",
       "      <th>46</th>\n",
       "      <td>14</td>\n",
       "      <td>14.974877</td>\n",
       "    </tr>\n",
       "    <tr>\n",
       "      <th>78</th>\n",
       "      <td>8</td>\n",
       "      <td>7.404107</td>\n",
       "    </tr>\n",
       "    <tr>\n",
       "      <th>24</th>\n",
       "      <td>14</td>\n",
       "      <td>14.974877</td>\n",
       "    </tr>\n",
       "  </tbody>\n",
       "</table>\n",
       "</div>"
      ],
      "text/plain": [
       "     CTCoffered   CTC_Pred\n",
       "22           16  16.867570\n",
       "158           8   7.404107\n",
       "46           14  14.974877\n",
       "78            8   7.404107\n",
       "24           14  14.974877"
      ]
     },
     "execution_count": 24,
     "metadata": {},
     "output_type": "execute_result"
    }
   ],
   "source": [
    "Y_test.head()"
   ]
  },
  {
   "cell_type": "code",
   "execution_count": 25,
   "id": "3016fec3",
   "metadata": {},
   "outputs": [],
   "source": [
    "# RMSE(Root Mean Square Error) value from test data\n",
    "import math"
   ]
  },
  {
   "cell_type": "code",
   "execution_count": 26,
   "id": "86f09bf9",
   "metadata": {},
   "outputs": [],
   "source": [
    "Y_test['Error'] = Y_test['CTCoffered'] - Y_test['CTC_Pred']\n",
    "Y_test['Sq_Error'] = (Y_test['Error']) ** 2"
   ]
  },
  {
   "cell_type": "code",
   "execution_count": 27,
   "id": "ece43ee4",
   "metadata": {},
   "outputs": [
    {
     "data": {
      "text/html": [
       "<div>\n",
       "<style scoped>\n",
       "    .dataframe tbody tr th:only-of-type {\n",
       "        vertical-align: middle;\n",
       "    }\n",
       "\n",
       "    .dataframe tbody tr th {\n",
       "        vertical-align: top;\n",
       "    }\n",
       "\n",
       "    .dataframe thead th {\n",
       "        text-align: right;\n",
       "    }\n",
       "</style>\n",
       "<table border=\"1\" class=\"dataframe\">\n",
       "  <thead>\n",
       "    <tr style=\"text-align: right;\">\n",
       "      <th></th>\n",
       "      <th>CTCoffered</th>\n",
       "      <th>CTC_Pred</th>\n",
       "      <th>Error</th>\n",
       "      <th>Sq_Error</th>\n",
       "    </tr>\n",
       "  </thead>\n",
       "  <tbody>\n",
       "    <tr>\n",
       "      <th>22</th>\n",
       "      <td>16</td>\n",
       "      <td>16.867570</td>\n",
       "      <td>-0.867570</td>\n",
       "      <td>0.752678</td>\n",
       "    </tr>\n",
       "    <tr>\n",
       "      <th>158</th>\n",
       "      <td>8</td>\n",
       "      <td>7.404107</td>\n",
       "      <td>0.595893</td>\n",
       "      <td>0.355088</td>\n",
       "    </tr>\n",
       "    <tr>\n",
       "      <th>46</th>\n",
       "      <td>14</td>\n",
       "      <td>14.974877</td>\n",
       "      <td>-0.974877</td>\n",
       "      <td>0.950386</td>\n",
       "    </tr>\n",
       "    <tr>\n",
       "      <th>78</th>\n",
       "      <td>8</td>\n",
       "      <td>7.404107</td>\n",
       "      <td>0.595893</td>\n",
       "      <td>0.355088</td>\n",
       "    </tr>\n",
       "    <tr>\n",
       "      <th>24</th>\n",
       "      <td>14</td>\n",
       "      <td>14.974877</td>\n",
       "      <td>-0.974877</td>\n",
       "      <td>0.950386</td>\n",
       "    </tr>\n",
       "  </tbody>\n",
       "</table>\n",
       "</div>"
      ],
      "text/plain": [
       "     CTCoffered   CTC_Pred     Error  Sq_Error\n",
       "22           16  16.867570 -0.867570  0.752678\n",
       "158           8   7.404107  0.595893  0.355088\n",
       "46           14  14.974877 -0.974877  0.950386\n",
       "78            8   7.404107  0.595893  0.355088\n",
       "24           14  14.974877 -0.974877  0.950386"
      ]
     },
     "execution_count": 27,
     "metadata": {},
     "output_type": "execute_result"
    }
   ],
   "source": [
    "Y_test.head()"
   ]
  },
  {
   "cell_type": "code",
   "execution_count": 28,
   "id": "f61a9995",
   "metadata": {},
   "outputs": [],
   "source": [
    "Error_mean = Y_test['Sq_Error'].mean()"
   ]
  },
  {
   "cell_type": "code",
   "execution_count": 29,
   "id": "252445cd",
   "metadata": {},
   "outputs": [
    {
     "data": {
      "text/plain": [
       "0.7288352044278015"
      ]
     },
     "execution_count": 29,
     "metadata": {},
     "output_type": "execute_result"
    }
   ],
   "source": [
    "Error_mean ** (0.5)"
   ]
  },
  {
   "cell_type": "code",
   "execution_count": 30,
   "id": "3279e821",
   "metadata": {},
   "outputs": [],
   "source": [
    "RMSE = math.sqrt(Error_mean)"
   ]
  },
  {
   "cell_type": "code",
   "execution_count": 31,
   "id": "d3b0e6d6",
   "metadata": {},
   "outputs": [
    {
     "data": {
      "text/plain": [
       "0.7288352044278015"
      ]
     },
     "execution_count": 31,
     "metadata": {},
     "output_type": "execute_result"
    }
   ],
   "source": [
    "RMSE"
   ]
  },
  {
   "cell_type": "code",
   "execution_count": 32,
   "id": "5dcfa724",
   "metadata": {},
   "outputs": [],
   "source": [
    "# Lower Range = Predicted value - RMSE\n",
    "# Upper Range = Predicted value + RMSE\n"
   ]
  },
  {
   "cell_type": "code",
   "execution_count": 33,
   "id": "1e056729",
   "metadata": {},
   "outputs": [],
   "source": [
    "val_data = pd.DataFrame({\"LastCTC\" : [7]})"
   ]
  },
  {
   "cell_type": "code",
   "execution_count": 34,
   "id": "b04ea798",
   "metadata": {},
   "outputs": [],
   "source": [
    "Predict_CTC = model.predict(val_data)"
   ]
  },
  {
   "cell_type": "code",
   "execution_count": 35,
   "id": "3c64c3d5",
   "metadata": {},
   "outputs": [
    {
     "data": {
      "text/plain": [
       "array([[8.35045346]])"
      ]
     },
     "execution_count": 35,
     "metadata": {},
     "output_type": "execute_result"
    }
   ],
   "source": [
    "Predict_CTC"
   ]
  },
  {
   "cell_type": "code",
   "execution_count": 36,
   "id": "683793ad",
   "metadata": {},
   "outputs": [
    {
     "name": "stdout",
     "output_type": "stream",
     "text": [
      "Upper Range of CTC is  [[9.07928867]]\n",
      "Lower Range of CTC is  [[7.62161826]]\n"
     ]
    }
   ],
   "source": [
    "print('Upper Range of CTC is ', Predict_CTC + RMSE)\n",
    "print('Lower Range of CTC is ', Predict_CTC - RMSE)"
   ]
  },
  {
   "cell_type": "code",
   "execution_count": 37,
   "id": "4456dd49",
   "metadata": {},
   "outputs": [],
   "source": [
    "import seaborn as sns"
   ]
  },
  {
   "cell_type": "code",
   "execution_count": 38,
   "id": "67f8970c",
   "metadata": {},
   "outputs": [
    {
     "data": {
      "text/plain": [
       "<AxesSubplot:xlabel='CTCoffered', ylabel='CTC_Pred'>"
      ]
     },
     "execution_count": 38,
     "metadata": {},
     "output_type": "execute_result"
    },
    {
     "data": {
      "image/png": "[encoded data removed]",
      "text/plain": [
       "<Figure size 432x288 with 1 Axes>"
      ]
     },
     "metadata": {
      "needs_background": "light"
     },
     "output_type": "display_data"
    }
   ],
   "source": [
    "sns.regplot( data = Y_test, x = 'CTCoffered', y = 'CTC_Pred')"
   ]
  },
  {
   "cell_type": "code",
   "execution_count": null,
   "id": "ba0b4058",
   "metadata": {},
   "outputs": [],
   "source": []
  }
 ],
 "metadata": {
  "kernelspec": {
   "display_name": "Python 3 (ipykernel)",
   "language": "python",
   "name": "python3"
  },
  "language_info": {
   "codemirror_mode": {
    "name": "ipython",
    "version": 3
   },
   "file_extension": ".py",
   "mimetype": "text/x-python",
   "name": "python",
   "nbconvert_exporter": "python",
   "pygments_lexer": "ipython3",
   "version": "3.9.7"
  }
 },
 "nbformat": 4,
 "nbformat_minor": 5
}
